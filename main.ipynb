{
 "cells": [
  {
   "cell_type": "markdown",
   "metadata": {},
   "source": [
    "# Importación de liberías"
   ]
  },
  {
   "cell_type": "code",
   "execution_count": 2,
   "metadata": {},
   "outputs": [],
   "source": [
    "import pandas as pd\n",
    "import numpy as np\n",
    "import matplotlib.pyplot as plt\n",
    "import seaborn as sns"
   ]
  },
  {
   "cell_type": "markdown",
   "metadata": {},
   "source": [
    "# Carga de dataframes y analisis exploratorio"
   ]
  },
  {
   "cell_type": "code",
   "execution_count": 13,
   "metadata": {},
   "outputs": [],
   "source": [
    "ds_ab = pd.read_csv(r'Inputs\\dataset_alpha_betha.csv',sep=',')\n",
    "ds_demand = pd.read_csv(r'Inputs\\dataset_demand_acumulate.csv',sep=',')\n",
    "ds_predict = pd.read_csv(r'Inputs\\to_predict.csv',sep=',')"
   ]
  },
  {
   "cell_type": "code",
   "execution_count": 14,
   "metadata": {},
   "outputs": [
    {
     "name": "stdout",
     "output_type": "stream",
     "text": [
      "       autoID  SeniorCity Partner Dependents Service1          Service2  \\\n",
      "0  7590-VHVEG           0     Yes         No       No  No phone service   \n",
      "1  5575-GNVDE           0      No         No      Yes                No   \n",
      "2  3668-QPYBK           0      No         No      Yes                No   \n",
      "3  7795-CFOCW           0      No         No       No  No phone service   \n",
      "4  9237-HQITU           0      No         No      Yes                No   \n",
      "\n",
      "  Security OnlineBackup DeviceProtection TechSupport        Contract  \\\n",
      "0       No          Yes               No          No  Month-to-month   \n",
      "1      Yes           No              Yes          No        One year   \n",
      "2      Yes          Yes               No          No  Month-to-month   \n",
      "3      Yes           No              Yes         Yes        One year   \n",
      "4       No           No               No          No  Month-to-month   \n",
      "\n",
      "  PaperlessBilling              PaymentMethod  Charges   Demand  Class  \n",
      "0              Yes           Electronic check    29.85    29.85  Alpha  \n",
      "1               No               Mailed check    56.95   1889.5  Alpha  \n",
      "2              Yes               Mailed check    53.85   108.15  Betha  \n",
      "3               No  Bank transfer (automatic)    42.30  1840.75  Alpha  \n",
      "4              Yes           Electronic check    70.70   151.65  Betha  \n",
      "  year_month       Demand\n",
      "0    2017-01  1211.009490\n",
      "1    2017-02  1660.584649\n",
      "2    2017-03  3182.587014\n",
      "3    2017-04  3506.515270\n",
      "4    2017-05  4554.082280\n",
      "       autoID  SeniorCity Partner Dependents Service1 Service2  \\\n",
      "0  9695-TERGH           0      No         No      Yes       No   \n",
      "1  5247-VRIOW           0      No         No      Yes       No   \n",
      "2  5731-DDJUB           0      No         No      Yes       No   \n",
      "\n",
      "              Security         OnlineBackup     DeviceProtection  \\\n",
      "0                  Yes                   No                   No   \n",
      "1                  Yes                   No                   No   \n",
      "2  No internet service  No internet service  No internet service   \n",
      "\n",
      "           TechSupport        Contract PaperlessBilling  \\\n",
      "0                   No  Month-to-month              Yes   \n",
      "1                  Yes  Month-to-month               No   \n",
      "2  No internet service        Two year               No   \n",
      "\n",
      "               PaymentMethod  Charges  Demand  Class  \n",
      "0           Electronic check    96.05     NaN    NaN  \n",
      "1               Mailed check    53.45     NaN    NaN  \n",
      "2  Bank transfer (automatic)    19.70     NaN    NaN  \n"
     ]
    }
   ],
   "source": [
    "print(ds_ab.head())\n",
    "print(ds_demand.head())\n",
    "print(ds_predict.head())"
   ]
  }
 ],
 "metadata": {
  "kernelspec": {
   "display_name": "Python 3",
   "language": "python",
   "name": "python3"
  },
  "language_info": {
   "codemirror_mode": {
    "name": "ipython",
    "version": 3
   },
   "file_extension": ".py",
   "mimetype": "text/x-python",
   "name": "python",
   "nbconvert_exporter": "python",
   "pygments_lexer": "ipython3",
   "version": "3.12.0"
  }
 },
 "nbformat": 4,
 "nbformat_minor": 2
}
